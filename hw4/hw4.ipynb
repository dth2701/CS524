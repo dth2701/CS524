{
 "cells": [
  {
   "cell_type": "markdown",
   "metadata": {},
   "source": [
    "# CS/ECE/ISyE 524 - S'23 - HW 4 \n",
    "\n",
    "# **Huong Thien Do**\n"
   ]
  },
  {
   "cell_type": "markdown",
   "metadata": {},
   "source": [
    "## 1. Network Reliability\n",
    "\n",
    "We consider a telecommunications network with a given pattern of interconnections. This network consists of eleven sites connected by bidirectional lines for data transmission. Each line has a bandwidth (i.e. maximum rate for data transmission) of 1.0. We are interested in the total bandwidth for the connection between nodes 10 and 11, and what happens to this bandwidth if a node is eliminated.\n",
    "\n",
    "**(a)** Formulate the problem as a maxflow problem and solve. (Hint: Each bidirectional line can be represented by two directional edges, one in each direction. That is, if there is a line connecting nodes i and j, then [i,j] and [j,i] are both edges in the edge set. See the definition  of the set \"edges\" in the starter file.)\n",
    "\n",
    "**(b)** By adjusting your model for part (a), **not** recoding the edge set from scratch, find what happens if node 3 is eliminated from the graph. (That is, all lines connected to node 3 can no longer carry data.) What is the new maximum bandwidth between nodes 10 and 11?\n",
    "\n",
    "**(c)** Can your maxflow problem be reformulated more compactly by using birectional lines? That is, redefining the edge set by eliminating duplicated lines (see the starter code) while allowing data to flow in either direction. Write down your reformulation of part (a) and code and solve it in Julia.\n"
   ]
  },
  {
   "cell_type": "code",
   "execution_count": 22,
   "metadata": {},
   "outputs": [
    {
     "name": "stderr",
     "output_type": "stream",
     "text": [
      "\u001b[32m\u001b[1m    Updating\u001b[22m\u001b[39m registry at `~/.julia/registries/General.toml`\n",
      "\u001b[32m\u001b[1m   Resolving\u001b[22m\u001b[39m package versions...\n",
      "\u001b[32m\u001b[1m  No Changes\u001b[22m\u001b[39m to `~/.julia/environments/v1.8/Project.toml`\n",
      "\u001b[32m\u001b[1m  No Changes\u001b[22m\u001b[39m to `~/.julia/environments/v1.8/Manifest.toml`\n",
      "\u001b[32m\u001b[1m   Resolving\u001b[22m\u001b[39m package versions...\n",
      "\u001b[32m\u001b[1m  No Changes\u001b[22m\u001b[39m to `~/.julia/environments/v1.8/Project.toml`\n",
      "\u001b[32m\u001b[1m  No Changes\u001b[22m\u001b[39m to `~/.julia/environments/v1.8/Manifest.toml`\n"
     ]
    }
   ],
   "source": [
    "using Pkg\n",
    "Pkg.add(\"HiGHS\")\n",
    "Pkg.add(\"JuMP\")"
   ]
  },
  {
   "cell_type": "markdown",
   "metadata": {},
   "source": [
    "### 1 a) \n",
    "\n",
    "Standard maxflow formulation"
   ]
  },
  {
   "cell_type": "code",
   "execution_count": 113,
   "metadata": {},
   "outputs": [
    {
     "name": "stdout",
     "output_type": "stream",
     "text": [
      "Running HiGHS 1.4.2 [date: 1970-01-01, git hash: f797c1ab6]\n",
      "Copyright (c) 2022 ERGO-Code under MIT licence terms\n",
      "Presolving model\n",
      "9 rows, 44 cols, 70 nonzeros\n",
      "9 rows, 25 cols, 38 nonzeros\n",
      "9 rows, 25 cols, 38 nonzeros\n",
      "Presolve : Reductions: rows 9(-0); columns 25(-19); elements 38(-32)\n",
      "Solving the presolved LP\n",
      "Using EKK dual simplex solver - serial\n",
      "  Iteration        Objective     Infeasibilities num(sum)\n",
      "          0     0.0000000000e+00 Ph1: 0(0) 0s\n",
      "         13    -4.0000000000e+00 Pr: 0(0) 0s\n",
      "Solving the original LP from the solution after postsolve\n",
      "Model   status      : Optimal\n",
      "Simplex   iterations: 13\n",
      "Objective value     :  4.0000000000e+00\n",
      "HiGHS run time      :          0.00\n",
      "Maximum flow: 4.0"
     ]
    }
   ],
   "source": [
    "using JuMP, HiGHS\n",
    "\n",
    "# define nodes and edge set for the given graph - two directed edges for each birectional line\n",
    "\n",
    "nodes = 1:11\n",
    "edges = ([1,2], [1,3], [1,11], [2,1], [2,3], [2,8], [2,9], [3,1], [3,2], [3,4], [3,9], [3,10], [3,11], \n",
    "    [4,3], [4,5], [4,6], [4,11], [5,4], [5,9], [5,11], [6,4], [6,7], [6,9], [6,10],\n",
    "    [7,6], [7,8], [7,10],[8,7], [8,2], [8,10], [9,6], [9,5], [9,3], [9,2], [9,10],\n",
    "    [10,6], [10,9], [10,3], [10,8], [10,7], [11,4], [11,1], [11,3], [11,5])\n",
    "\n",
    "\n",
    "# Create a JuMP model object\n",
    "m = Model(HiGHS.Optimizer)\n",
    "\n",
    "# Define flow variables for each edge\n",
    "@variable(m,0 <= x[edges] <= 1)\n",
    "for node = 1:9\n",
    "    i = 0 \n",
    "    j = 0\n",
    "    for edge in edges\n",
    "        if edge[1] == node\n",
    "            i += x[edge]\n",
    "        end\n",
    "        if edge[2] == node\n",
    "            j += x[edge]\n",
    "        end\n",
    "    end\n",
    "    @constraint(m,i == j)\n",
    "end\n",
    " \n",
    "k = 0\n",
    "for edge in edges\n",
    "    if edge[1] == 11\n",
    "        k += x[edge]\n",
    "    end\n",
    "end\n",
    "\n",
    "@objective(m, Max, k)\n",
    "optimize!(m)\n",
    "print(\"Maximum flow: \", objective_value(m) )\n"
   ]
  },
  {
   "cell_type": "markdown",
   "metadata": {},
   "source": [
    "### 1 b) \n"
   ]
  },
  {
   "cell_type": "code",
   "execution_count": 114,
   "metadata": {},
   "outputs": [
    {
     "name": "stdout",
     "output_type": "stream",
     "text": [
      "Running HiGHS 1.4.2 [date: 1970-01-01, git hash: f797c1ab6]\n",
      "Copyright (c) 2022 ERGO-Code under MIT licence terms\n",
      "Presolving model\n",
      "8 rows, 32 cols, 50 nonzeros\n",
      "8 rows, 19 cols, 28 nonzeros\n",
      "7 rows, 18 cols, 26 nonzeros\n",
      "Presolve : Reductions: rows 7(-2); columns 18(-14); elements 26(-24)\n",
      "Solving the presolved LP\n",
      "Using EKK dual simplex solver - serial\n",
      "  Iteration        Objective     Infeasibilities num(sum)\n",
      "          0     0.0000000000e+00 Ph1: 0(0) 0s\n",
      "         10    -3.0000000000e+00 Pr: 0(0) 0s\n",
      "Solving the original LP from the solution after postsolve\n",
      "Model   status      : Optimal\n",
      "Simplex   iterations: 10\n",
      "Objective value     :  3.0000000000e+00\n",
      "HiGHS run time      :          0.00\n",
      "Maximum flow: 3.0"
     ]
    }
   ],
   "source": [
    "using JuMP, HiGHS\n",
    "\n",
    "# define nodes and edge set for the given graph - two directed edges for each birectional line\n",
    "\n",
    "nodes = 1:11\n",
    "edges = ([1,2], [1,11], [2,1], [2,8], [2,9],\n",
    "    [4,5], [4,6], [4,11], [5,4], [5,9], [5,11], [6,4], [6,7], [6,9], [6,10],\n",
    "    [7,6], [7,8], [7,10],[8,7], [8,2], [8,10], [9,6], [9,5], [9,2], [9,10],\n",
    "    [10,6], [10,9], [10,8], [10,7], [11,4], [11,1], [11,5])\n",
    "\n",
    "# Create a JuMP model object\n",
    "m = Model(HiGHS.Optimizer)\n",
    "\n",
    "# Define flow variables for each edge\n",
    "@variable(m,0 <= x[edges] <= 1)\n",
    "for node = 1:9\n",
    "    i = 0 \n",
    "    j = 0\n",
    "    for edge in edges\n",
    "        if edge[1] == node\n",
    "            i += x[edge]\n",
    "        end\n",
    "        if edge[2] == node\n",
    "            j += x[edge]\n",
    "        end\n",
    "    end\n",
    "    @constraint(m,i == j)\n",
    "end\n",
    " \n",
    "k = 0\n",
    "for edge in edges\n",
    "    if edge[1] == 11\n",
    "        k += x[edge]\n",
    "    end\n",
    "end\n",
    "\n",
    "@objective(m, Max, k)\n",
    "optimize!(m)\n",
    "print(\"Maximum flow: \", objective_value(m) )\n"
   ]
  },
  {
   "cell_type": "markdown",
   "metadata": {},
   "source": [
    "### 1 c) \n",
    "\n",
    "**WRITE YOUR FORMULATION OF THE COMPACT PROBLEM HERE**"
   ]
  },
  {
   "cell_type": "code",
   "execution_count": 115,
   "metadata": {},
   "outputs": [
    {
     "name": "stdout",
     "output_type": "stream",
     "text": [
      "Running HiGHS 1.4.2 [date: 1970-01-01, git hash: f797c1ab6]\n",
      "Copyright (c) 2022 ERGO-Code under MIT licence terms\n",
      "Presolving model\n",
      "9 rows, 21 cols, 34 nonzeros\n",
      "9 rows, 21 cols, 34 nonzeros\n",
      "Presolve : Reductions: rows 9(-0); columns 21(-1); elements 34(-1)\n",
      "Solving the presolved LP\n",
      "Using EKK dual simplex solver - serial\n",
      "  Iteration        Objective     Infeasibilities num(sum)\n",
      "          0    -4.0000196806e+00 Pr: 9(17) 0s\n",
      "         14    -4.0000000000e+00 Pr: 0(0) 0s\n",
      "Solving the original LP from the solution after postsolve\n",
      "Model   status      : Optimal\n",
      "Simplex   iterations: 14\n",
      "Objective value     :  4.0000000000e+00\n",
      "HiGHS run time      :          0.00\n",
      "Maximum flow: 4.0"
     ]
    }
   ],
   "source": [
    "using JuMP, HiGHS\n",
    "\n",
    "# version with bidirectional edges\n",
    "\n",
    "nodes = 1:11\n",
    "edges = ([1,2], [1,3], [1,11], [2,3], [2,8], [2,9], [3,4], [3,9], [3,10], [3,11], \n",
    "    [4,5], [4,6], [4,11], [5,9], [5,11], [6,7], [6,9], [6,10],\n",
    "    [7,8], [7,10],[8,10], [9,10])\n",
    "\n",
    "# Create a JuMP model object\n",
    "m = Model(HiGHS.Optimizer)\n",
    "\n",
    "# Define flow variables for each edge\n",
    "@variable(m, x[edges] <= 1)\n",
    "for node = 1:9\n",
    "    i = 0 \n",
    "    j = 0\n",
    "    for edge in edges\n",
    "        if edge[1] == node\n",
    "            i += x[edge]\n",
    "        end\n",
    "        if edge[2] == node\n",
    "            j += x[edge]\n",
    "        end\n",
    "    end\n",
    "    @constraint(m,i == j)\n",
    "end\n",
    " \n",
    "k = 0\n",
    "for edge in edges\n",
    "    if edge[2] == 11\n",
    "        k += x[edge]\n",
    "    end\n",
    "end\n",
    "\n",
    "@objective(m, Max, k)\n",
    "optimize!(m)\n",
    "print(\"Maximum flow: \", objective_value(m) )\n"
   ]
  },
  {
   "cell_type": "markdown",
   "metadata": {},
   "source": [
    "## 2. Stigler's supplement\n",
    "\n",
    "### 2 a)"
   ]
  },
  {
   "cell_type": "code",
   "execution_count": 88,
   "metadata": {
    "scrolled": true
   },
   "outputs": [
    {
     "name": "stderr",
     "output_type": "stream",
     "text": [
      "\u001b[32m\u001b[1m   Resolving\u001b[22m\u001b[39m package versions...\n",
      "\u001b[32m\u001b[1m  No Changes\u001b[22m\u001b[39m to `~/.julia/environments/v1.8/Project.toml`\n",
      "\u001b[32m\u001b[1m  No Changes\u001b[22m\u001b[39m to `~/.julia/environments/v1.8/Manifest.toml`\n",
      "\u001b[32m\u001b[1m   Resolving\u001b[22m\u001b[39m package versions...\n",
      "\u001b[32m\u001b[1m  No Changes\u001b[22m\u001b[39m to `~/.julia/environments/v1.8/Project.toml`\n",
      "\u001b[32m\u001b[1m  No Changes\u001b[22m\u001b[39m to `~/.julia/environments/v1.8/Manifest.toml`\n",
      "\u001b[32m\u001b[1m   Resolving\u001b[22m\u001b[39m package versions...\n",
      "\u001b[32m\u001b[1m  No Changes\u001b[22m\u001b[39m to `~/.julia/environments/v1.8/Project.toml`\n",
      "\u001b[32m\u001b[1m  No Changes\u001b[22m\u001b[39m to `~/.julia/environments/v1.8/Manifest.toml`\n",
      "\u001b[32m\u001b[1m   Resolving\u001b[22m\u001b[39m package versions...\n",
      "\u001b[32m\u001b[1m  No Changes\u001b[22m\u001b[39m to `~/.julia/environments/v1.8/Project.toml`\n",
      "\u001b[32m\u001b[1m  No Changes\u001b[22m\u001b[39m to `~/.julia/environments/v1.8/Manifest.toml`\n",
      "\u001b[32m\u001b[1m    Building\u001b[22m\u001b[39m Gurobi → `~/.julia/scratchspaces/44cfe95a-1eb2-52ea-b672-e2afdf69b78f/82a44a86f4dc4fa4510c9d49b0a74d3d73914d5c/build.log`\n"
     ]
    }
   ],
   "source": [
    "import Pkg\n",
    "Pkg.add(\"CSV\")\n",
    "Pkg.add(\"DataFrames\")\n",
    "Pkg.add(\"NamedArrays\")"
   ]
  },
  {
   "cell_type": "code",
   "execution_count": 106,
   "metadata": {
    "scrolled": true
   },
   "outputs": [
    {
     "name": "stdout",
     "output_type": "stream",
     "text": [
      "Foods:\n",
      "\n",
      "Wheat Flour (Enriched)\n",
      "Macaroni\n",
      "Wheat Cereal (Enriched)\n",
      "Corn Flakes\n",
      "Corn Meal\n",
      "Hominy Grits\n",
      "Rice\n",
      "Rolled Oats\n",
      "White Bread (Enriched)\n",
      "Whole Wheat Bread\n",
      "Rye Bread\n",
      "Pound Cake\n",
      "Soda Crackers\n",
      "Milk\n",
      "Evaporated Milk (can)\n",
      "Butter\n",
      "Oleomargarine\n",
      "Eggs\n",
      "Cheese (Cheddar)\n",
      "Cream\n",
      "Peanut Butter\n",
      "Mayonnaise\n",
      "Crisco\n",
      "Lard\n",
      "Sirloin Steak\n",
      "Round Steak\n",
      "Rib Roast\n",
      "Chuck Roast\n",
      "Plate\n",
      "Liver (Beef)\n",
      "Leg of Lamb\n",
      "Lamb Chops (Rib)\n",
      "Pork Chops\n",
      "Pork Loin Roast\n",
      "Bacon\n",
      "Ham, smoked\n",
      "Salt Pork\n",
      "Roasting Chicken\n",
      "Veal Cutlets\n",
      "Salmon, Pink (can)\n",
      "Apples\n",
      "Bananas\n",
      "Lemons\n",
      "Oranges\n",
      "Green Beans\n",
      "Cabbage\n",
      "Carrots\n",
      "Celery\n",
      "Lettuce\n",
      "Onions\n",
      "Potatoes\n",
      "Spinach\n",
      "Sweet Potatoes\n",
      "Peaches (can)\n",
      "Pears (can)\n",
      "Pineapple (can)\n",
      "Asparagus (can)\n",
      "Green Beans (can)\n",
      "Pork and Beans (can)\n",
      "Corn (can)\n",
      "Peas (can)\n",
      "Tomatoes (can)\n",
      "Tomato Soup (can)\n",
      "Peaches, Dried\n",
      "Prunes, Dried\n",
      "Raisins, Dried\n",
      "Peas, Dried\n",
      "Lima Beans, Dried\n",
      "Navy Beans, Dried\n",
      "Coffee\n",
      "Tea\n",
      "Cocoa\n",
      "Chocolate\n",
      "Sugar\n",
      "Corn Syrup\n",
      "Molasses\n",
      "Strawberry Preserves\n",
      "\n",
      "\n",
      "Nutrient Lower Bounds:\n",
      "\n",
      "Calories (1000) at least: 3.0\n",
      "Protein (g) at least: 70\n",
      "Calcium (g) at least: 0.8\n",
      "Iron (mg) at least: 12\n",
      "Vitamin A (1000 IU) at least: 5.0\n",
      "Thiamine (mg) at least: 1.8\n",
      "Riboflavin (mg) at least: 2.7\n",
      "Niacin (mg) at least: 18\n",
      "Ascorbic Acid (mg) at least: 75\n"
     ]
    }
   ],
   "source": [
    "# STARTER CODE FOR STIGLER'S DIET PROBLEM\n",
    "\n",
    "using NamedArrays, CSV, DataFrames, Gurobi\n",
    "\n",
    "# import Stigler's data set\n",
    "raw = CSV.read(\"stigler.csv\", DataFrame);\n",
    "(m,n) = size(raw)\n",
    "\n",
    "n_nutrients = 2:n      # columns containing nutrients\n",
    "\n",
    "# list of food\n",
    "foods = raw[2:end,1]\n",
    "# list of nutrients\n",
    "nutrients = [string(names(raw)[i]) for i=2:length(names(raw))]\n",
    "\n",
    "# minimum required amount of each nutrient\n",
    "lower = Dict( zip(nutrients,raw[1,n_nutrients]) )\n",
    "\n",
    "# data[f,i] is the amount of nutrient i contained in food f \n",
    "dataraw = Matrix(values(raw[2:end,2:end]))\n",
    "data = NamedArray(dataraw,(foods,nutrients),(\"foods\",\"nutrients\"))\n",
    "                \n",
    "        \n",
    "println(\"Foods:\\n\")\n",
    "for i in foods\n",
    "    println(i)\n",
    "end\n",
    "\n",
    "\n",
    "println(\"\\n\\nNutrient Lower Bounds:\\n\")\n",
    "for j in nutrients\n",
    "    println(j,\" at least: \",lower[j])\n",
    "end"
   ]
  },
  {
   "cell_type": "markdown",
   "metadata": {},
   "source": [
    "**INSERT ANSWERS AND EXPLANATIONS FOR PARTS a) AND b)**"
   ]
  },
  {
   "cell_type": "code",
   "execution_count": 139,
   "metadata": {},
   "outputs": [
    {
     "name": "stdout",
     "output_type": "stream",
     "text": [
      "Running HiGHS 1.4.2 [date: 1970-01-01, git hash: f797c1ab6]\n",
      "Copyright (c) 2022 ERGO-Code under MIT licence terms\n",
      "Presolving model\n",
      "9 rows, 40 cols, 317 nonzeros\n",
      "9 rows, 27 cols, 213 nonzeros\n",
      "Presolve : Reductions: rows 9(-0); columns 27(-50); elements 213(-357)\n",
      "Solving the presolved LP\n",
      "Using EKK dual simplex solver - serial\n",
      "  Iteration        Objective     Infeasibilities num(sum)\n",
      "          0     0.0000000000e+00 Pr: 9(76.4375) 0s\n",
      "          5     1.0866227821e-01 Pr: 0(0) 0s\n",
      "Solving the original LP from the solution after postsolve\n",
      "Model   status      : Optimal\n",
      "Simplex   iterations: 5\n",
      "Objective value     :  1.0866227821e-01\n",
      "HiGHS run time      :          0.00\n"
     ]
    }
   ],
   "source": [
    "m = Model(HiGHS.Optimizer)\n",
    "\n",
    "@variable(m, 0 <= x[1:length(foods)])\n",
    "food_name = [\"Calories (1000)\", \"Protein (g)\", \"Calcium (g)\", \"Iron (mg)\", \"Vitamin A (1000 IU)\", \n",
    "    \"Thiamine (mg)\", \"Riboflavin (mg)\", \"Niacin (mg)\", \"Ascorbic Acid (mg)\"]\n",
    "\n",
    "for j in 1:size(data, 2)\n",
    "    @constraint(m, sum(x[i]*data[i,j] for i in 1:length(foods)) >= lower[food_name[j]] )\n",
    "end\n",
    "\n",
    "@objective(m, Min, sum(x[i] for i=1:length(foods)))\n",
    "\n",
    "optimize!(m)"
   ]
  },
  {
   "cell_type": "code",
   "execution_count": 148,
   "metadata": {},
   "outputs": [
    {
     "name": "stdout",
     "output_type": "stream",
     "text": [
      "Running HiGHS 1.4.2 [date: 1970-01-01, git hash: f797c1ab6]\n",
      "Copyright (c) 2022 ERGO-Code under MIT licence terms\n",
      "Presolving model\n",
      "43 rows, 9 cols, 335 nonzeros\n",
      "25 rows, 9 cols, 195 nonzeros\n",
      "Presolve : Reductions: rows 25(-53); columns 9(-0); elements 195(-376)\n",
      "Solving the presolved LP\n",
      "Using EKK dual simplex solver - serial\n",
      "  Iteration        Objective     Infeasibilities num(sum)\n",
      "          0    -1.7363233223e+00 Ph1: 25(295.5); Du: 7(1.73632) 0s\n",
      "          9    -1.0810012589e-01 Pr: 0(0) 0s\n",
      "Solving the original LP from the solution after postsolve\n",
      "Model   status      : Optimal\n",
      "Simplex   iterations: 9\n",
      "Objective value     :  1.0810012589e-01\n",
      "HiGHS run time      :          0.00\n",
      "Objective Value: 0.10810012588561714\n",
      "The final bill for Riboflavin (mg) with $0.01\n"
     ]
    }
   ],
   "source": [
    "m_dual = Model(HiGHS.Optimizer)\n",
    "\n",
    "@variable(m_dual, 0 <= x[1:length(n_nutrients)])\n",
    "@objective(m_dual, Max, sum(x[i] * lower[nutrients[i]] for i=1:length(n_nutrients)) )\n",
    "for i in 1:length(foods)\n",
    "    @constraint(m_dual, sum(x[j] * data[i,j] for j in 1:length(n_nutrients)) <= 1)\n",
    "end\n",
    "\n",
    "optimize!(m_dual)\n",
    "\n",
    "println(\"Objective Value: \", objective_value(m_dual) )\n",
    "println(\"The final bill for \", nutrients[7], \" with \\$\", value(x[7]) )"
   ]
  },
  {
   "cell_type": "markdown",
   "metadata": {},
   "source": [
    "### 2 b)"
   ]
  },
  {
   "cell_type": "code",
   "execution_count": 141,
   "metadata": {},
   "outputs": [
    {
     "name": "stdout",
     "output_type": "stream",
     "text": [
      "Running HiGHS 1.4.2 [date: 1970-01-01, git hash: f797c1ab6]\n",
      "Copyright (c) 2022 ERGO-Code under MIT licence terms\n",
      "Presolving model\n",
      "9 rows, 44 cols, 336 nonzeros\n",
      "9 rows, 26 cols, 196 nonzeros\n",
      "Presolve : Reductions: rows 9(-0); columns 26(-52); elements 196(-375)\n",
      "Solving the presolved LP\n",
      "Using EKK dual simplex solver - serial\n",
      "  Iteration        Objective     Infeasibilities num(sum)\n",
      "          0     0.0000000000e+00 Pr: 9(76.4375) 0s\n",
      "          5     1.0810012589e-01 Pr: 0(0) 0s\n",
      "Solving the original LP from the solution after postsolve\n",
      "Model   status      : Optimal\n",
      "Simplex   iterations: 5\n",
      "Objective value     :  1.0810012589e-01\n",
      "HiGHS run time      :          0.00\n"
     ]
    }
   ],
   "source": [
    "using NamedArrays, CSV, DataFrames\n",
    "\n",
    "# import Stigler's data set\n",
    "raw = CSV.read(\"stiglerPill.csv\", DataFrame);\n",
    "(m,n) = size(raw)\n",
    "\n",
    "n_nutrients = 2:n    # columns containing nutrients\n",
    "\n",
    "# list of food\n",
    "foods = raw[2:end,1]\n",
    "# list of nutrients\n",
    "nutrients = [string(names(raw)[i]) for i=2:length(names(raw))]\n",
    "\n",
    "# minimum required amount of each nutrient\n",
    "lower = Dict( zip(nutrients,raw[1,n_nutrients]) )\n",
    "\n",
    "# data[f,i] is the amount of nutrient i contained in food f \n",
    "dataraw = Matrix(values(raw[2:end,2:end]))\n",
    "data = NamedArray(dataraw,(foods,nutrients),(\"foods\",\"nutrients\"))  \n",
    "        \n",
    "n_foods = 3:80\n",
    "        \n",
    "m = Model(HiGHS.Optimizer)\n",
    "\n",
    "@variable(m, 0 <= x[1:length(n_foods)])\n",
    "@objective(m, Min, sum(x[i] for i=1:length(n_foods)) )\n",
    "\n",
    "food_name = [\"Calories (1000)\", \"Protein (g)\", \"Calcium (g)\", \"Iron (mg)\", \"Vitamin A (1000 IU)\", \n",
    "    \"Thiamine (mg)\", \"Riboflavin (mg)\", \"Niacin (mg)\", \"Ascorbic Acid (mg)\"]\n",
    "\n",
    "for j in 1:size(data, 2)\n",
    "    @constraint(m, sum(x[i] * data[i,j] for i in 1:length(n_foods) ) >= lower[food_name[j]] )\n",
    "end\n",
    "\n",
    "optimize!(m)"
   ]
  },
  {
   "cell_type": "code",
   "execution_count": 152,
   "metadata": {},
   "outputs": [
    {
     "name": "stdout",
     "output_type": "stream",
     "text": [
      "Running HiGHS 1.4.2 [date: 1970-01-01, git hash: f797c1ab6]\n",
      "Copyright (c) 2022 ERGO-Code under MIT licence terms\n",
      "Presolving model\n",
      "43 rows, 9 cols, 335 nonzeros\n",
      "25 rows, 9 cols, 195 nonzeros\n",
      "Presolve : Reductions: rows 25(-53); columns 9(-0); elements 195(-376)\n",
      "Solving the presolved LP\n",
      "Using EKK dual simplex solver - serial\n",
      "  Iteration        Objective     Infeasibilities num(sum)\n",
      "          0    -1.7363233223e+00 Ph1: 25(295.5); Du: 7(1.73632) 0s\n",
      "          9    -1.0810012589e-01 Pr: 0(0) 0s\n",
      "Solving the original LP from the solution after postsolve\n",
      "Model   status      : Optimal\n",
      "Simplex   iterations: 9\n",
      "Objective value     :  1.0810012589e-01\n",
      "HiGHS run time      :          0.00\n",
      "Pill: 0.013374435034446444\n",
      "Macaroni: 0.0\n",
      "Wheat Cereal (Enriched): 0.03458137698012198\n",
      "Corn Flakes: 0.0\n",
      "Corn Meal: 0.0004876657783989055\n",
      "Hominy Grits: 0.0\n",
      "Rice: 0.01\n",
      "Rolled Oats: 0.0\n",
      "White Bread (Enriched): 0.0001449785374158091\n",
      "\n",
      "Objective Value: $39.45654594825026\n"
     ]
    }
   ],
   "source": [
    "m_dual = Model(HiGHS.Optimizer)\n",
    "\n",
    "@variable(m_dual, 0 <= x[1:length(n_nutrients)])\n",
    "@objective(m_dual, Max, sum(x[i] * lower[nutrients[i]] for i=1:length(n_nutrients)) )\n",
    "\n",
    "for i in 1:length(n_foods)\n",
    "    @constraint(m_dual, sum(x[j] * data[i,j] for j in 1:length(n_nutrients)) <= 1)\n",
    "end\n",
    "optimize!(m_dual)\n",
    "\n",
    "for i in 1:9\n",
    "    println(foods[i], \": \", value(x[i]))\n",
    "end\n",
    "println()\n",
    "println(\"Objective Value: \\$\", objective_value(m_dual) * 365)"
   ]
  },
  {
   "cell_type": "markdown",
   "metadata": {},
   "source": [
    "## 3. Dual interpretation\n",
    "Suppose $t \\in [0,2\\pi]$ is a parameter. Consider the following LP:\n",
    "\\begin{align*}\n",
    "\\underset{p,q,r,s}{\\text{minimize}}\\qquad& p+q+r+s\\\\\n",
    "\\text{subject to:}\\qquad& p-r = \\cos(t)\\\\\n",
    "& q-s = \\sin(t)\\\\\n",
    "& p,q,r,s \\ge 0\n",
    "\\end{align*}\n",
    "\n",
    "**a)** Plot the optimal objective of this LP as a function of $t$. Can you explain what you see?\n",
    "_Hint:_ you can do this by looping over values of $t$, and solving a separate LP for each different value of $t$. To interpret what you're seeing, you may want to separately consider the cases where $\\cos(t)$ and $\\sin(t)$ are positive or negative (four cases).\n",
    "\n",
    "**b)** Find the dual LP and interpret it geometrically. Does this agree with the solution of part **a)**?"
   ]
  },
  {
   "cell_type": "markdown",
   "metadata": {},
   "source": [
    "### 3 a)"
   ]
  },
  {
   "cell_type": "code",
   "execution_count": 107,
   "metadata": {},
   "outputs": [
    {
     "data": {
      "image/png": "[encoded data removed]",
      "text/plain": [
       "Figure(PyObject <Figure size 1000x250 with 1 Axes>)"
      ]
     },
     "metadata": {},
     "output_type": "display_data"
    }
   ],
   "source": [
    "using JuMP, PyPlot, HiGHS\n",
    "\n",
    "# define a set of 101 values of t, equally spaced on [0,2*pi]\n",
    "Npts = 101\n",
    "tvals=range(0,stop=2*pi,length=Npts) \n",
    "optvals = zeros(Npts)\n",
    "\n",
    "for (i,t) in enumerate(tvals)\n",
    "    m = Model(HiGHS.Optimizer)\n",
    "    set_optimizer_attribute(m, \"output_flag\", false)\n",
    "     # insert code here to set up and solve the problem for this \"t\", and save the objective\n",
    "    @variable(m, p >= 0)\n",
    "    @variable(m, q >= 0)\n",
    "    @variable(m, r >= 0)\n",
    "    @variable(m, s >= 0)\n",
    "    @objective(m, Min, p + q + r + s)\n",
    "\n",
    "    @constraint(m, q - s == sin(t))\n",
    "    @constraint(m, p - r == cos(t))\n",
    "\n",
    "    optimize!(m)\n",
    "    optvals[i] = objective_value(m)\n",
    "end\n",
    "\n",
    "# here is some code to plot the results, assuming that the optimal values are stored in array \"optvals\"\n",
    "figure(figsize=(10,2.5))\n",
    "plot( tvals, optvals, \"b-\" )\n",
    "xticks(0:π/2:2π)\n",
    "yticks(0:0.5:1.5)\n",
    "ylim([0,1.5])\n",
    "xlim([0,2π])\n",
    "grid()\n",
    "g = gca()\n",
    "g[:set_xticklabels]([\"0\",\"π/2\",\"π\",\"3π/2\",\"2π\"])\n",
    "xlabel(\"value of the parameter t\")\n",
    "title(\"optimal objective of the LP\")\n",
    ";"
   ]
  },
  {
   "cell_type": "markdown",
   "metadata": {},
   "source": [
    "**Explanation:** \n",
    "\n",
    "**As t ranges from zero to 2π, the plot displays oscillations of the optimal object value between two values. Specifically, an optimal objective value of approximately 1.5 is obtained when cos(t) and sin(t) are positive, while an optimal objective value of approximately 0.5 is obtained when they are negative. The LP minimizes the sum of four positive numbers, which results in a large positive value when cos(t) and sin(t) have the same sign, and a small positive value when they have opposite signs.**"
   ]
  },
  {
   "cell_type": "markdown",
   "metadata": {},
   "source": [
    "### 3 b) \n",
    "\n",
    "**WRITE YOUR SOLUTION TO PART (b) HERE**"
   ]
  },
  {
   "cell_type": "code",
   "execution_count": 147,
   "metadata": {
    "scrolled": true
   },
   "outputs": [
    {
     "data": {
      "image/png": "[encoded data removed]",
      "text/plain": [
       "Figure(PyObject <Figure size 1000x250 with 2 Axes>)"
      ]
     },
     "metadata": {},
     "output_type": "display_data"
    }
   ],
   "source": [
    "using PyPlot\n",
    "\n",
    "# define a set of 101 values of t, equally spaced on [0,2*pi]\n",
    "Npts = 101\n",
    "tvals = range(0, stop=2*pi, length=Npts)\n",
    "optvals_primal = zeros(Npts)\n",
    "optvals_dual = zeros(Npts)\n",
    "\n",
    "# create the figure and subplots outside the loop\n",
    "fig, axs = subplots(ncols=2, figsize=(10, 2.5))\n",
    "\n",
    "for (i, t) in enumerate(tvals)\n",
    "    m = Model(HiGHS.Optimizer)\n",
    "    set_optimizer_attribute(m, \"output_flag\", false)\n",
    "    @variable(m, 0 <= p)\n",
    "    @variable(m, 0 <= q)\n",
    "    @variable(m, 0 <= r)\n",
    "    @variable(m, 0 <= s)\n",
    "\n",
    "    @constraint(m, q - s == sin(t))\n",
    "    @constraint(m, p - r == cos(t))\n",
    "\n",
    "    @objective(m, Min, p + q + r + s)\n",
    "    optimize!(m)\n",
    "    optvals_primal[i] = objective_value(m)\n",
    "\n",
    "    vertices = [(0, 0), (0, sin(t)), (cos(t), 0), (cos(t), sin(t))]\n",
    "    objvals = [cos(t) * u + sin(t) * v for (u, v) in vertices]\n",
    "    optidx = argmin(objvals)\n",
    "    optvals_dual[i] = objvals[optidx]\n",
    "\n",
    "    if i >= Npts - 1\n",
    "        axs[1].plot(tvals[1:i], optvals_primal[1:i], \"b-\")\n",
    "        axs[1].set_xticks(0:π/2:2π)\n",
    "        axs[1].set_yticks(0:0.5:1.5)\n",
    "        axs[1].set_ylim([0, 1.5])\n",
    "        axs[1].set_xlim([0, 2π])\n",
    "        axs[1].grid()\n",
    "        axs[1].set_xticklabels([\"0\", \"π/2\", \"π\", \"3π/2\", \"2π\"])\n",
    "        axs[1].set_xlabel(\"value of the parameter t\")\n",
    "        axs[1].set_title(\"Optimal objective of the primal LP\")\n",
    "\n",
    "        axs[2].plot([v[1] for v in vertices], [v[2] for v in vertices], \"ro\")\n",
    "        axs[2].plot([0, cos(t)], [0, 0], \"b-\")\n",
    "        axs[2].plot([0, 0], [0, sin(t)], \"g-\")\n",
    "        axs[2].plot([cos(t), 0], [sin(t), sin(t)], \"c-\")\n",
    "        axs[2].plot([cos(t), cos(t)], [sin(t), 0], \"m-\")\n",
    "        axs[2].plot(vertices[optidx][1], vertices[optidx][2], \"ko\")\n",
    "        axs[2].set_xlim([-0.1, 1.1])\n",
    "        axs[2].set_ylim([-0.1, 1.1])\n",
    "        axs[2].set_xlabel(\"u\")\n",
    "        axs[2].set_ylabel(\"v\")\n",
    "        axs[2].set_title(\"Optimal objective of the dual LP\")\n",
    "\n",
    "        fig.tight_layout()\n",
    "        fig.show()\n",
    "    end\n",
    "end"
   ]
  }
 ],
 "metadata": {
  "kernelspec": {
   "display_name": "Julia 1.8.5",
   "language": "julia",
   "name": "julia-1.8"
  },
  "language_info": {
   "file_extension": ".jl",
   "mimetype": "application/julia",
   "name": "julia",
   "version": "1.8.5"
  }
 },
 "nbformat": 4,
 "nbformat_minor": 1
}
