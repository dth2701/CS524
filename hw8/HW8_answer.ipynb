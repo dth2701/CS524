{
 "cells": [
  {
   "cell_type": "markdown",
   "id": "cd2dfe03",
   "metadata": {},
   "source": [
    "## HW8"
   ]
  },
  {
   "cell_type": "markdown",
   "id": "55fe2015",
   "metadata": {},
   "source": [
    "## Q1(a)"
   ]
  },
  {
   "cell_type": "code",
   "execution_count": 1,
   "id": "f5c651e6",
   "metadata": {
    "scrolled": true
   },
   "outputs": [],
   "source": [
    "using Ipopt, JuMP;"
   ]
  },
  {
   "cell_type": "code",
   "execution_count": 2,
   "id": "e154f949",
   "metadata": {},
   "outputs": [
    {
     "name": "stdout",
     "output_type": "stream",
     "text": [
      "\n",
      "******************************************************************************\n",
      "This program contains Ipopt, a library for large-scale nonlinear optimization.\n",
      " Ipopt is released as open source code under the Eclipse Public License (EPL).\n",
      "         For more information visit https://github.com/coin-or/Ipopt\n",
      "******************************************************************************\n",
      "\n",
      "p* = 0.5"
     ]
    }
   ],
   "source": [
    "m = Model(Ipopt.Optimizer)\n",
    "set_silent(m)\n",
    "\n",
    "x = @variable(m, [1:2, 1:1])\n",
    "@objective(m, Min, (x[1]^2 + x[2]^2)/2)\n",
    "@constraint(m, 1 <= x[1])\n",
    "\n",
    "optimize!(m)\n",
    "result = objective_value(m)\n",
    "\n",
    "print(\"p* = $(round(result; digits=1))\")"
   ]
  },
  {
   "cell_type": "markdown",
   "id": "d755544e",
   "metadata": {},
   "source": [
    "## Q1(b)"
   ]
  },
  {
   "cell_type": "markdown",
   "id": "1c8548fb",
   "metadata": {},
   "source": [
    "\\begin{align*}\n",
    "&L(x, λ) = 0.5*(x_1^2 + x_2^2) + λ*(1-x_1)\\\\\n",
    "&L(x, λ) = 0.5*(x_1^2 + x_2^2 - 2λx_1) + λ\\\\\n",
    "&L(x, λ) = 0.5*(x_1^2 + x_2^2 - 2λx_1 + λ^2)\\\\\n",
    "&L(x, λ) = 0.5*((x_1 - λ)^2 + x_2^2) - 0.5λ^2 + λ\\\\\n",
    "&g(λ) = min L(x, λ)\\\\\n",
    "& min 0.5*((x_1 - λ)^2 + x_2^2) = 0\\\\\n",
    "&g(λ) = - 0.5λ^2 + λ\\\\\n",
    "\\end{align*}\n"
   ]
  },
  {
   "cell_type": "markdown",
   "id": "f785397e",
   "metadata": {},
   "source": [
    "## Q1(c)"
   ]
  },
  {
   "cell_type": "code",
   "execution_count": 3,
   "id": "711b4f9b",
   "metadata": {
    "scrolled": false
   },
   "outputs": [
    {
     "name": "stdout",
     "output_type": "stream",
     "text": [
      "d* = 0.5\n"
     ]
    }
   ],
   "source": [
    "m = Model(Ipopt.Optimizer)\n",
    "set_silent(m)\n",
    "\n",
    "@variable(m, 0 <= λ)\n",
    "@objective(m, Max, -0.5 * λ^2 + λ)\n",
    "optimize!(m)\n",
    "\n",
    "result = objective_value(m)\n",
    "\n",
    "print(\"d* = $(round(result; digits=1))\\n\")"
   ]
  },
  {
   "cell_type": "markdown",
   "id": "0e853427",
   "metadata": {},
   "source": [
    "## Q1(d)"
   ]
  },
  {
   "cell_type": "markdown",
   "id": "1b669f19",
   "metadata": {},
   "source": [
    "It is satisfied because it exists a feasible point and it is affine.\n",
    "\n",
    "p* = d* = 0.5"
   ]
  },
  {
   "cell_type": "markdown",
   "id": "f3915156",
   "metadata": {},
   "source": [
    "## Q2(a)"
   ]
  },
  {
   "cell_type": "code",
   "execution_count": 4,
   "id": "9e254142",
   "metadata": {},
   "outputs": [
    {
     "name": "stdout",
     "output_type": "stream",
     "text": [
      "p* = -0.5\n"
     ]
    }
   ],
   "source": [
    "m = Model(Ipopt.Optimizer)\n",
    "set_silent(m)\n",
    "\n",
    "x = @variable(m, [1:2])\n",
    "set_start_value(x[1], 1/sqrt(2))\n",
    "set_start_value(x[2], 1/sqrt(2))\n",
    "\n",
    "@constraint(m, x[1]^2 + x[2]^2 - 1 <= 0)\n",
    "\n",
    "@objective(m, Min, x[1]*x[2])\n",
    "\n",
    "optimize!(m)\n",
    "result = objective_value(m)\n",
    "\n",
    "print(\"p* = $(round(result; digits=1))\\n\")"
   ]
  },
  {
   "cell_type": "markdown",
   "id": "2ff7b564",
   "metadata": {},
   "source": [
    "## Q2(b)"
   ]
  },
  {
   "cell_type": "markdown",
   "id": "6ceb0377",
   "metadata": {},
   "source": [
    "\\begin{align*}\n",
    "&dL/dx_1 = x_2 + 2x_1λ = 0\\\\\n",
    "&dL/dx_2 = x_1 + 2x_2λ = 0\\\\\n",
    "&\\text{We have: }\\quad  x_2 + 2x_1λ = 0\\\\\n",
    "&\\text{=> }\\quad  2x_2λ +4x_1λ^2\\\\\n",
    "&\\text{=> }\\quad  x_1 = -2x_2λ\\\\\n",
    "&\\text{=> }\\quad  -x_1 = 2x_2λ\\\\\n",
    "&\\text{Therefore, }\\quad  4λ^2x_1 - x_1 = 0\\\\\n",
    "&λ = 1/2 \\quad\\text{We have: }\\quad λ >= 0\\\\\n",
    "&\\text{For }\\quad λ=1/2\\\\\n",
    "&g(λ) = x_1x_2 + 0.5(x_1^2 + x_2^2-1)\\\\\n",
    "&g(λ) = x_1x_2 + 0.5x_1^2 + 0.5x_2^2 - 0.5\\\\\n",
    "&g(λ) = 0.5(x_1 + x_2)^2 - 0.5\\\\\n",
    "&\\text{Thus, }\\quad g(λ) = -0.5 \\quad\\text{when }\\quad λ = 0.5\\\\\n",
    "&\\text{If }\\quad λ >= 0.5, \\quad g(λ) = -λ \\text{, }\\quad\\text{Because }\\quad λ(x_1+x_2)^2 > λ\\\\\n",
    "&\\text{Otherwise, when }\\quad\\ 0.5 > λ >= 0\\text{, }\\quad\\text{then }\\quad g(λ) = -\\infty\\\\\n",
    "\\end{align*}"
   ]
  },
  {
   "cell_type": "markdown",
   "id": "0b38ef7f",
   "metadata": {},
   "source": [
    "## Q2(c)"
   ]
  },
  {
   "cell_type": "code",
   "execution_count": 5,
   "id": "cd760908",
   "metadata": {},
   "outputs": [
    {
     "name": "stdout",
     "output_type": "stream",
     "text": [
      "d* = -0.5\n"
     ]
    }
   ],
   "source": [
    "m = Model(Ipopt.Optimizer)\n",
    "set_silent(m)\n",
    "\n",
    "@variable(m, 0.5 <= λ) \n",
    "@objective(m, Max, -λ)\n",
    "optimize!(m)\n",
    "\n",
    "result = objective_value(m)\n",
    "\n",
    "print(\"d* = $(round(result; digits=1))\\n\")"
   ]
  },
  {
   "cell_type": "markdown",
   "id": "503637eb",
   "metadata": {},
   "source": [
    "## Q2(d)"
   ]
  },
  {
   "cell_type": "markdown",
   "id": "f34f84e2",
   "metadata": {},
   "source": [
    "It is not satisfied because x1x2 is not convex.\n",
    "It has strong duality.\n",
    "\n",
    "p* = d* = -0.5"
   ]
  }
 ],
 "metadata": {
  "kernelspec": {
   "display_name": "Julia 1.8.5",
   "language": "julia",
   "name": "julia-1.8"
  },
  "language_info": {
   "file_extension": ".jl",
   "mimetype": "application/julia",
   "name": "julia",
   "version": "1.8.5"
  }
 },
 "nbformat": 4,
 "nbformat_minor": 5
}
