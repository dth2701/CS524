{
 "cells": [
  {
   "cell_type": "markdown",
   "metadata": {},
   "source": [
    "## HW2"
   ]
  },
  {
   "cell_type": "markdown",
   "metadata": {},
   "source": [
    "## Question 01"
   ]
  },
  {
   "cell_type": "code",
   "execution_count": 328,
   "metadata": {
    "scrolled": false
   },
   "outputs": [
    {
     "name": "stdout",
     "output_type": "stream",
     "text": [
      "It is not possible to complete all three projects on time.\n"
     ]
    }
   ],
   "source": [
    "# Deadline for each project(in months)\n",
    "p1_deadline = 3\n",
    "p2_deadline = 4\n",
    "p3_deadline = 2\n",
    "\n",
    "# Number of worker-months of labor of each project.\n",
    "p1_labor = 8\n",
    "p2_labor = 10\n",
    "p3_labor = 12\n",
    "\n",
    "# Number of workers woreked in each project\n",
    "p1_workers = p1_labor / p1_deadline\n",
    "p2_workers = p2_labor / p2_deadline\n",
    "p3_workers = p3_labor / p3_deadline\n",
    "\n",
    "if p1_workers > 6 || p2_workers > 6 || p3_workers > 6\n",
    "    println(\"It is not possible to complete all three projects on time.\")\n",
    "elseif (p1_workers + p2_workers + p3_workers) > 8\n",
    "    println(\"It is not possible to complete all three projects on time.\")\n",
    "else\n",
    "    println(\"It is possible to complete all three projects on time.\")\n",
    "end\n"
   ]
  },
  {
   "cell_type": "markdown",
   "metadata": {},
   "source": [
    "## Question 2"
   ]
  },
  {
   "cell_type": "code",
   "execution_count": 329,
   "metadata": {
    "scrolled": false
   },
   "outputs": [
    {
     "name": "stdout",
     "output_type": "stream",
     "text": [
      "QUESTION 2A:\n",
      "a. Decision variables:\n",
      "x1, x2,..., x77: the amount of each food in the diet.\n",
      "Constraints:\n",
      "Considering x_i as the total amounts of food in diet (in units of 1 dollar),\n",
      "y_j as the minimum recommended daily allowance of the j nutrient,\n",
      "a_{ij} as the amount of the jth nutrient contained in the ith food,\n",
      "The constraint states that the sum of the amounts of each nutrient in the 77 foods must be greater than or equal to the minimum RDA of that nutrient\n",
      "Hence, we have: a_{ij} * x_i >= y_j (for i = 1, 2,...,77 and j = 1, 2,.., 9)\n",
      "The objective: to minimize the sum of the costs of all 77 foods, which is c_i * x_i where c_i represents the cost of food i (for i = 1, 2,...,77 )\n"
     ]
    }
   ],
   "source": [
    "println(\"QUESTION 2A:\")\n",
    "println(\"a. Decision variables:\")\n",
    "println(\"x1, x2,..., x77: the amount of each food in the diet.\")\n",
    "\n",
    "println(\"Constraints:\")\n",
    "println(\"Considering x_i as the total amounts of food in diet (in units of 1 dollar),\")\n",
    "println(\"y_j as the minimum recommended daily allowance of the j nutrient,\")\n",
    "println(\"a_{ij} as the amount of the jth nutrient contained in the ith food,\")\n",
    "println(\"The constraint states that the sum of the amounts of each nutrient in the 77 foods must be greater than or equal to the minimum RDA of that nutrient\")\n",
    "println(\"Hence, we have: a_{ij} * x_i >= y_j (for i = 1, 2,...,77 and j = 1, 2,.., 9)\")\n",
    "\n",
    "println(\"The objective: to minimize the sum of the costs of all 77 foods, which is c_i * x_i where c_i represents the cost of food i (for i = 1, 2,...,77 )\")"
   ]
  },
  {
   "cell_type": "code",
   "execution_count": 330,
   "metadata": {},
   "outputs": [
    {
     "name": "stderr",
     "output_type": "stream",
     "text": [
      "\u001b[32m\u001b[1m   Resolving\u001b[22m\u001b[39m package versions...\n",
      "\u001b[32m\u001b[1m  No Changes\u001b[22m\u001b[39m to `~/.julia/environments/v1.8/Project.toml`\n",
      "\u001b[32m\u001b[1m  No Changes\u001b[22m\u001b[39m to `~/.julia/environments/v1.8/Manifest.toml`\n",
      "\u001b[32m\u001b[1m   Resolving\u001b[22m\u001b[39m package versions...\n",
      "\u001b[32m\u001b[1m  No Changes\u001b[22m\u001b[39m to `~/.julia/environments/v1.8/Project.toml`\n",
      "\u001b[32m\u001b[1m  No Changes\u001b[22m\u001b[39m to `~/.julia/environments/v1.8/Manifest.toml`\n",
      "\u001b[32m\u001b[1m   Resolving\u001b[22m\u001b[39m package versions...\n",
      "\u001b[32m\u001b[1m  No Changes\u001b[22m\u001b[39m to `~/.julia/environments/v1.8/Project.toml`\n",
      "\u001b[32m\u001b[1m  No Changes\u001b[22m\u001b[39m to `~/.julia/environments/v1.8/Manifest.toml`\n"
     ]
    }
   ],
   "source": [
    "using Pkg\n",
    "Pkg.add(\"CSV\")\n",
    "Pkg.add(\"DataFrames\")\n",
    "Pkg.add(\"NamedArrays\")"
   ]
  },
  {
   "cell_type": "code",
   "execution_count": 331,
   "metadata": {
    "scrolled": true
   },
   "outputs": [
    {
     "name": "stdout",
     "output_type": "stream",
     "text": [
      "Foods:\n",
      "\n",
      "Wheat Flour (Enriched)\n",
      "Macaroni\n",
      "Wheat Cereal (Enriched)\n",
      "Corn Flakes\n",
      "Corn Meal\n",
      "Hominy Grits\n",
      "Rice\n",
      "Rolled Oats\n",
      "White Bread (Enriched)\n",
      "Whole Wheat Bread\n",
      "Rye Bread\n",
      "Pound Cake\n",
      "Soda Crackers\n",
      "Milk\n",
      "Evaporated Milk (can)\n",
      "Butter\n",
      "Oleomargarine\n",
      "Eggs\n",
      "Cheese (Cheddar)\n",
      "Cream\n",
      "Peanut Butter\n",
      "Mayonnaise\n",
      "Crisco\n",
      "Lard\n",
      "Sirloin Steak\n",
      "Round Steak\n",
      "Rib Roast\n",
      "Chuck Roast\n",
      "Plate\n",
      "Liver (Beef)\n",
      "Leg of Lamb\n",
      "Lamb Chops (Rib)\n",
      "Pork Chops\n",
      "Pork Loin Roast\n",
      "Bacon\n",
      "Ham, smoked\n",
      "Salt Pork\n",
      "Roasting Chicken\n",
      "Veal Cutlets\n",
      "Salmon, Pink (can)\n",
      "Apples\n",
      "Bananas\n",
      "Lemons\n",
      "Oranges\n",
      "Green Beans\n",
      "Cabbage\n",
      "Carrots\n",
      "Celery\n",
      "Lettuce\n",
      "Onions\n",
      "Potatoes\n",
      "Spinach\n",
      "Sweet Potatoes\n",
      "Peaches (can)\n",
      "Pears (can)\n",
      "Pineapple (can)\n",
      "Asparagus (can)\n",
      "Green Beans (can)\n",
      "Pork and Beans (can)\n",
      "Corn (can)\n",
      "Peas (can)\n",
      "Tomatoes (can)\n",
      "Tomato Soup (can)\n",
      "Peaches, Dried\n",
      "Prunes, Dried\n",
      "Raisins, Dried\n",
      "Peas, Dried\n",
      "Lima Beans, Dried\n",
      "Navy Beans, Dried\n",
      "Coffee\n",
      "Tea\n",
      "Cocoa\n",
      "Chocolate\n",
      "Sugar\n",
      "Corn Syrup\n",
      "Molasses\n",
      "Strawberry Preserves\n",
      "\n",
      "\n",
      "Nutrient Lower Bounds:\n",
      "\n",
      "Calories (1000) at least: 3.0\n",
      "Protein (g) at least: 70\n",
      "Calcium (g) at least: 0.8\n",
      "Iron (mg) at least: 12\n",
      "Vitamin A (1000 IU) at least: 5.0\n",
      "Thiamine (mg) at least: 1.8\n",
      "Riboflavin (mg) at least: 2.7\n",
      "Niacin (mg) at least: 18\n",
      "Ascorbic Acid (mg) at least: 75\n",
      "\n"
     ]
    }
   ],
   "source": [
    "using NamedArrays, CSV, DataFrames, JuMP, HiGHS, LinearAlgebra\n",
    "\n",
    "# import Stigler's data set\n",
    "raw = CSV.read(\"stigler.csv\", DataFrame);\n",
    "(m,n) = size(raw)\n",
    "\n",
    "n_nutrients = 2:n      # columns containing nutrients\n",
    "n_foods = 3:m          # rows containing food names\n",
    "\n",
    "# list of food\n",
    "foods = raw[2:end,1]\n",
    "# list of nutrients\n",
    "nutrients = [string(names(raw)[i]) for i=2:length(names(raw))]\n",
    "\n",
    "# minimum required amount of each nutrient\n",
    "lower = Dict( zip(nutrients,raw[1,n_nutrients]) )\n",
    "\n",
    "# data[f,i] is the amount of nutrient i contained in food f \n",
    "dataraw = Matrix(values(raw[2:end,2:end]))\n",
    "data = NamedArray(dataraw,(foods,nutrients),(\"foods\",\"nutrients\"))              \n",
    "        \n",
    "println(\"Foods:\\n\")\n",
    "for i in foods\n",
    "    println(i)\n",
    "end\n",
    "\n",
    "println(\"\\n\\nNutrient Lower Bounds:\\n\")\n",
    "for j in nutrients\n",
    "    println(j,\" at least: \",lower[j])\n",
    "end\n",
    "                \n",
    "println(\"\")\n"
   ]
  },
  {
   "cell_type": "code",
   "execution_count": 332,
   "metadata": {},
   "outputs": [
    {
     "name": "stdout",
     "output_type": "stream",
     "text": [
      "QUESTION 2B:\n",
      "Running HiGHS 1.4.2 [date: 1970-01-01, git hash: f797c1ab6]\n",
      "Copyright (c) 2022 ERGO-Code under MIT licence terms\n",
      "Presolving model\n",
      "9 rows, 40 cols, 317 nonzeros\n",
      "9 rows, 27 cols, 213 nonzeros\n",
      "Presolve : Reductions: rows 9(-0); columns 27(-50); elements 213(-357)\n",
      "Solving the presolved LP\n",
      "Using EKK dual simplex solver - serial\n",
      "  Iteration        Objective     Infeasibilities num(sum)\n",
      "          0     0.0000000000e+00 Pr: 9(27899.7) 0s\n",
      "          5     3.9661731545e+01 Pr: 0(0) 0s\n",
      "Solving the original LP from the solution after postsolve\n",
      "Model   status      : Optimal\n",
      "Simplex   iterations: 5\n",
      "Objective value     :  3.9661731545e+01\n",
      "HiGHS run time      :          0.00\n",
      "Optimal diet:\n",
      "Wheat Flour (Enriched): 0.029519061676488274 units per day\n",
      "Liver (Beef): 0.001892557290705262 units per day\n",
      "Cabbage: 0.01121443524614487 units per day\n",
      "Spinach: 0.005007660466725203 units per day\n",
      "Navy Beans, Dried: 0.06102856352669323 units per day\n"
     ]
    }
   ],
   "source": [
    "println(\"QUESTION 2B:\")\n",
    "m = Model(HiGHS.Optimizer)\n",
    "\n",
    "@variable(m, x[1:77] >= 0)\n",
    "\n",
    "for i = 1:9\n",
    "    @constraint(m, x[1:77]'*data[:,i]>= lower[nutrients[i]] * 365)\n",
    "end\n",
    "                    \n",
    "@objective(m, Min, sum(x[1:77]) )\n",
    "\n",
    "optimize!(m)\n",
    "                \n",
    "println(\"Optimal diet:\")\n",
    "for i = 1:77\n",
    "     if value.(x[i]) > 0\n",
    "         println(foods[i],\": \", value.(x[i])/365, \" units per day\")\n",
    "     end\n",
    "end"
   ]
  },
  {
   "cell_type": "code",
   "execution_count": 333,
   "metadata": {
    "scrolled": true
   },
   "outputs": [
    {
     "data": {
      "text/html": [
       "<div><div style = \"float: left;\"><span>9×3 DataFrame</span></div><div style = \"clear: both;\"></div></div><div class = \"data-frame\" style = \"overflow-x: scroll;\"><table class = \"data-frame\" style = \"margin-bottom: 6px;\"><thead><tr class = \"header\"><th class = \"rowNumber\" style = \"font-weight: bold; text-align: right;\">Row</th><th style = \"text-align: left;\">Nutrients</th><th style = \"text-align: left;\">lower_bound</th><th style = \"text-align: left;\">LP_solution</th></tr><tr class = \"subheader headerLastRow\"><th class = \"rowNumber\" style = \"font-weight: bold; text-align: right;\"></th><th title = \"Any\" style = \"text-align: left;\">Any</th><th title = \"Any\" style = \"text-align: left;\">Any</th><th title = \"Any\" style = \"text-align: left;\">Any</th></tr></thead><tbody><tr><td class = \"rowNumber\" style = \"font-weight: bold; text-align: right;\">1</td><td style = \"text-align: left;\">Calories (1000)</td><td style = \"text-align: left;\">3.0</td><td style = \"text-align: left;\">3.0</td></tr><tr><td class = \"rowNumber\" style = \"font-weight: bold; text-align: right;\">2</td><td style = \"text-align: left;\">Protein (g)</td><td style = \"text-align: left;\">70</td><td style = \"text-align: left;\">147.414</td></tr><tr><td class = \"rowNumber\" style = \"font-weight: bold; text-align: right;\">3</td><td style = \"text-align: left;\">Calcium (g)</td><td style = \"text-align: left;\">0.8</td><td style = \"text-align: left;\">0.8</td></tr><tr><td class = \"rowNumber\" style = \"font-weight: bold; text-align: right;\">4</td><td style = \"text-align: left;\">Iron (mg)</td><td style = \"text-align: left;\">12</td><td style = \"text-align: left;\">60.4669</td></tr><tr><td class = \"rowNumber\" style = \"font-weight: bold; text-align: right;\">5</td><td style = \"text-align: left;\">Vitamin A (1000 IU)</td><td style = \"text-align: left;\">5.0</td><td style = \"text-align: left;\">5.0</td></tr><tr><td class = \"rowNumber\" style = \"font-weight: bold; text-align: right;\">6</td><td style = \"text-align: left;\">Thiamine (mg)</td><td style = \"text-align: left;\">1.8</td><td style = \"text-align: left;\">4.12044</td></tr><tr><td class = \"rowNumber\" style = \"font-weight: bold; text-align: right;\">7</td><td style = \"text-align: left;\">Riboflavin (mg)</td><td style = \"text-align: left;\">2.7</td><td style = \"text-align: left;\">2.7</td></tr><tr><td class = \"rowNumber\" style = \"font-weight: bold; text-align: right;\">8</td><td style = \"text-align: left;\">Niacin (mg)</td><td style = \"text-align: left;\">18</td><td style = \"text-align: left;\">27.316</td></tr><tr><td class = \"rowNumber\" style = \"font-weight: bold; text-align: right;\">9</td><td style = \"text-align: left;\">Ascorbic Acid (mg)</td><td style = \"text-align: left;\">75</td><td style = \"text-align: left;\">75.0</td></tr></tbody></table></div>"
      ],
      "text/latex": [
       "\\begin{tabular}{r|ccc}\n",
       "\t& Nutrients & lower\\_bound & LP\\_solution\\\\\n",
       "\t\\hline\n",
       "\t& Any & Any & Any\\\\\n",
       "\t\\hline\n",
       "\t1 & Calories (1000) & 3.0 & 3.0 \\\\\n",
       "\t2 & Protein (g) & 70 & 147.414 \\\\\n",
       "\t3 & Calcium (g) & 0.8 & 0.8 \\\\\n",
       "\t4 & Iron (mg) & 12 & 60.4669 \\\\\n",
       "\t5 & Vitamin A (1000 IU) & 5.0 & 5.0 \\\\\n",
       "\t6 & Thiamine (mg) & 1.8 & 4.12044 \\\\\n",
       "\t7 & Riboflavin (mg) & 2.7 & 2.7 \\\\\n",
       "\t8 & Niacin (mg) & 18 & 27.316 \\\\\n",
       "\t9 & Ascorbic Acid (mg) & 75 & 75.0 \\\\\n",
       "\\end{tabular}\n"
      ],
      "text/plain": [
       "\u001b[1m9×3 DataFrame\u001b[0m\n",
       "\u001b[1m Row \u001b[0m│\u001b[1m Nutrients           \u001b[0m\u001b[1m lower_bound \u001b[0m\u001b[1m LP_solution \u001b[0m\n",
       "     │\u001b[90m Any                 \u001b[0m\u001b[90m Any         \u001b[0m\u001b[90m Any         \u001b[0m\n",
       "─────┼───────────────────────────────────────────────\n",
       "   1 │ Calories (1000)      3.0          3.0\n",
       "   2 │ Protein (g)          70           147.414\n",
       "   3 │ Calcium (g)          0.8          0.8\n",
       "   4 │ Iron (mg)            12           60.4669\n",
       "   5 │ Vitamin A (1000 IU)  5.0          5.0\n",
       "   6 │ Thiamine (mg)        1.8          4.12044\n",
       "   7 │ Riboflavin (mg)      2.7          2.7\n",
       "   8 │ Niacin (mg)          18           27.316\n",
       "   9 │ Ascorbic Acid (mg)   75           75.0"
      ]
     },
     "execution_count": 333,
     "metadata": {},
     "output_type": "execute_result"
    }
   ],
   "source": [
    "using DataFrames\n",
    "LP_value = dataraw'*value.(x)/365\n",
    "df2 = DataFrame(Nutrients=[], lower_bound=[], LP_solution=[])\n",
    "for i= 1:9\n",
    "    push!(df2,(nutrients[i],lower[nutrients[i]],LP_value[i]))\n",
    "end \n",
    "df2"
   ]
  },
  {
   "cell_type": "code",
   "execution_count": 334,
   "metadata": {},
   "outputs": [
    {
     "name": "stdout",
     "output_type": "stream",
     "text": [
      "QUESTION 2C:\n",
      "lower bounds for each nutrient alongside the amount of nutrient in the optimal diet, and Dual Variables:\n",
      "Running HiGHS 1.4.2 [date: 1970-01-01, git hash: f797c1ab6]\n",
      "Copyright (c) 2022 ERGO-Code under MIT licence terms\n",
      "Presolving model\n",
      "40 rows, 9 cols, 317 nonzeros\n",
      "27 rows, 9 cols, 213 nonzeros\n",
      "Presolve : Reductions: rows 27(-50); columns 9(-0); elements 213(-357)\n",
      "Solving the presolved LP\n",
      "Using EKK dual simplex solver - serial\n",
      "  Iteration        Objective     Infeasibilities num(sum)\n",
      "          0    -7.5694473524e+02 Ph1: 27(349.212); Du: 8(756.945) 0s\n",
      "          8    -3.9661731545e+01 Pr: 0(0) 0s\n",
      "Solving the original LP from the solution after postsolve\n",
      "Model   status      : Optimal\n",
      "Simplex   iterations: 8\n",
      "Objective value     :  3.9661731545e+01\n",
      "HiGHS run time      :          0.00\n",
      "Calories (1000) at least: 3.0 with optimal intake: 2.401410218643696e-5\n",
      "Calcium (g) at least: 0.8 with optimal intake: 8.695263957708775e-5\n",
      "Vitamin A (1000 IU) at least: 5.0 with optimal intake: 1.0965280047270723e-6\n",
      "Riboflavin (mg) at least: 2.7 with optimal intake: 4.4816527943223805e-5\n",
      "Ascorbic Acid (mg) at least: 75 with optimal intake: 3.948425081068414e-7\n"
     ]
    }
   ],
   "source": [
    "println(\"QUESTION 2C:\")\n",
    "println(\"lower bounds for each nutrient alongside the amount of nutrient in the optimal diet, and Dual Variables:\")   \n",
    "using NamedArrays, CSV, DataFrames, JuMP, HiGHS, LinearAlgebra\n",
    "m = Model(HiGHS. Optimizer)\n",
    "@variable(m,z[1:9] >= 0)\n",
    "for j=1:length(x)\n",
    "    @constraint(m,z[1:9]'*(data[j,:])<=1)\n",
    "end\n",
    "@objective(m, Max, sum(df2[:,2]'*z[1:9]*365))\n",
    "optimize!(m)\n",
    "for i in 1:length(nutrients)\n",
    "    if value.(z[i]) > 0\n",
    "        println(nutrients[i],\" at least: \",lower[nutrients[i]], \" with optimal intake: \", value.(z[i])/365)\n",
    "    end\n",
    "end\n"
   ]
  },
  {
   "cell_type": "code",
   "execution_count": 335,
   "metadata": {},
   "outputs": [
    {
     "ename": "LoadError",
     "evalue": "KeyError: key 1 not found",
     "output_type": "error",
     "traceback": [
      "KeyError: key 1 not found",
      "",
      "Stacktrace:",
      "  [1] getindex(h::Dict{String31, Int64}, key::Int64)",
      "    @ Base ./dict.jl:498",
      "  [2] getindex(x::JuMP.Containers._AxisLookup{Dict{String31, Int64}}, key::Int64)",
      "    @ JuMP.Containers ~/.julia/packages/JuMP/yYfHy/src/Containers/DenseAxisArray.jl:51",
      "  [3] (::JuMP.Containers.var\"#1#2\"{JuMP.Containers._AxisLookup{Dict{String31, Int64}}})(key::Int64)",
      "    @ JuMP.Containers ./none:0",
      "  [4] iterate",
      "    @ ./generator.jl:47 [inlined]",
      "  [5] collect",
      "    @ ./array.jl:787 [inlined]",
      "  [6] getindex",
      "    @ ~/.julia/packages/JuMP/yYfHy/src/Containers/DenseAxisArray.jl:58 [inlined]",
      "  [7] _getindex_recurse",
      "    @ ~/.julia/packages/JuMP/yYfHy/src/Containers/DenseAxisArray.jl:330 [inlined]",
      "  [8] to_index",
      "    @ ~/.julia/packages/JuMP/yYfHy/src/Containers/DenseAxisArray.jl:339 [inlined]",
      "  [9] getindex(A::JuMP.Containers.DenseAxisArray{VariableRef, 1, Tuple{Vector{String31}}, Tuple{JuMP.Containers._AxisLookup{Dict{String31, Int64}}}}, idx::UnitRange{Int64})",
      "    @ JuMP.Containers ~/.julia/packages/JuMP/yYfHy/src/Containers/DenseAxisArray.jl:346",
      " [10] macro expansion",
      "    @ ~/.julia/packages/MutableArithmetics/9dpep/src/rewrite.jl:322 [inlined]",
      " [11] macro expansion",
      "    @ ~/.julia/packages/JuMP/yYfHy/src/macros.jl:832 [inlined]",
      " [12] top-level scope",
      "    @ ./In[335]:7"
     ]
    }
   ],
   "source": [
    "m1 = Model(HiGHS.Optimizer)\n",
    "@variable(m1, x[foods] >= 0)\n",
    "\n",
    "@constraint(m1, x[\"Liver (Beef)\"] == 0)\n",
    "@constraint(m1, x[\"Milk\"] >= 0.01)\n",
    "for j = 1:length(x)\n",
    "    @constraint(m1, x[1:9]'*data[j,:] <= 1)\n",
    "end\n",
    "                    \n",
    "@objective(m1,Max,sum(df2[:,2]'*x[1:9]*365) )\n",
    "println(value.(x[2]))\n",
    "optimize!(m1)\n",
    "println(value.(y))"
   ]
  },
  {
   "cell_type": "markdown",
   "metadata": {},
   "source": [
    "## Question 3"
   ]
  },
  {
   "cell_type": "code",
   "execution_count": 336,
   "metadata": {},
   "outputs": [
    {
     "name": "stdout",
     "output_type": "stream",
     "text": [
      "The decision variable is the radius of the museum, r.\n",
      "The constraint: \n",
      "r >= 0\n",
      "(w - r) >= 75 where w is the width of the site\n",
      "(l - r) >= 75 where l is the length of the site\n",
      "It means that the distance between the center of the museum and each of 4 edges of the site must be at least 75 feet\n",
      "The objective function is to maximize the radius r\n"
     ]
    }
   ],
   "source": [
    "println(\"The decision variable is the radius of the museum, r.\")\n",
    "\n",
    "println(\"The constraint: \")\n",
    "println(\"r >= 0\")\n",
    "println(\"(w - r) >= 75 where w is the width of the site\") \n",
    "println(\"(l - r) >= 75 where l is the length of the site\")\n",
    "println(\"It means that the distance between the center of the museum and each of 4 edges of the site must be at least 75 feet\")\n",
    "\n",
    "println(\"The objective function is to maximize the radius r\")"
   ]
  },
  {
   "cell_type": "code",
   "execution_count": 337,
   "metadata": {},
   "outputs": [
    {
     "name": "stderr",
     "output_type": "stream",
     "text": [
      "\u001b[32m\u001b[1m   Resolving\u001b[22m\u001b[39m package versions...\n",
      "\u001b[32m\u001b[1m  No Changes\u001b[22m\u001b[39m to `~/.julia/environments/v1.8/Project.toml`\n",
      "\u001b[32m\u001b[1m  No Changes\u001b[22m\u001b[39m to `~/.julia/environments/v1.8/Manifest.toml`\n"
     ]
    }
   ],
   "source": [
    "# If you haven't yet installed the linear algebra package, do the standard thing:\n",
    "using Pkg\n",
    "Pkg.add(\"LinearAlgebra\")"
   ]
  },
  {
   "cell_type": "code",
   "execution_count": 338,
   "metadata": {
    "scrolled": true
   },
   "outputs": [
    {
     "name": "stdout",
     "output_type": "stream",
     "text": [
      "QUESTION 3B:\n",
      "Running HiGHS 1.4.2 [date: 1970-01-01, git hash: f797c1ab6]\n",
      "Copyright (c) 2022 ERGO-Code under MIT licence terms\n",
      "Presolving model\n",
      "5 rows, 3 cols, 12 nonzeros\n",
      "5 rows, 3 cols, 12 nonzeros\n",
      "Presolve : Reductions: rows 5(-0); columns 3(-0); elements 12(-0) - Not reduced\n",
      "Problem not reduced by presolve: solving the LP\n",
      "Using EKK dual simplex solver - serial\n",
      "  Iteration        Objective     Infeasibilities num(sum)\n",
      "          0    -9.9999858935e-01 Ph1: 5(7.36413); Du: 1(0.999999) 0s\n",
      "          4     2.4402852679e+02 Pr: 0(0) 0s\n",
      "Model   status      : Optimal\n",
      "Simplex   iterations: 4\n",
      "Objective value     :  2.4402852679e+02\n",
      "HiGHS run time      :          0.00\n",
      "The coordinates of the Chebyshev center are: [244.02852679380192, 244.0285267938019]\n",
      "The largest possible radius is: 244.02852679380186\n"
     ]
    }
   ],
   "source": [
    "println(\"QUESTION 3B:\")\n",
    "using JuMP, HiGHS, LinearAlgebra\n",
    "using PyPlot\n",
    "\n",
    "A = [2/3 1; 3 -1; 0 1; -1 0; 0 -1]\n",
    "b = [700; 1500; 500; 0; 0]\n",
    "\n",
    "# Define the model\n",
    "m = Model(HiGHS.Optimizer)\n",
    "\n",
    "# Define decision variables\n",
    "@variable(m, x[1:2] >= 75) # coordinates of center\n",
    "@variable(m, r >= 0) # radius of the sphere\n",
    "\n",
    "# Define the objective\n",
    "@objective(m, Max, r)\n",
    "\n",
    "for i = 1:size(A,1)\n",
    "    @constraint(m, A[i,:]'*x + r*norm(A[i,:]) <= b[i])\n",
    "end\n",
    "@objective(m, Max, r)     # maximize radius of the sphere\n",
    "\n",
    "optimize!(m)\n",
    "center = value.(x)\n",
    "radius = value(r)\n",
    "\n",
    "println(\"The coordinates of the Chebyshev center are: \", center)\n",
    "println(\"The largest possible radius is: \", radius)\n"
   ]
  },
  {
   "cell_type": "code",
   "execution_count": 339,
   "metadata": {},
   "outputs": [
    {
     "name": "stderr",
     "output_type": "stream",
     "text": [
      "\u001b[32m\u001b[1m   Resolving\u001b[22m\u001b[39m package versions...\n",
      "\u001b[32m\u001b[1m  No Changes\u001b[22m\u001b[39m to `~/.julia/environments/v1.8/Project.toml`\n",
      "\u001b[32m\u001b[1m  No Changes\u001b[22m\u001b[39m to `~/.julia/environments/v1.8/Manifest.toml`\n"
     ]
    }
   ],
   "source": [
    "using Pkg\n",
    "Pkg.add(\"PyPlot\")"
   ]
  },
  {
   "cell_type": "code",
   "execution_count": 340,
   "metadata": {},
   "outputs": [
    {
     "data": {
      "image/png": "[encoded data removed]",
      "text/plain": [
       "Figure(PyObject <Figure size 600x500 with 1 Axes>)"
      ]
     },
     "metadata": {},
     "output_type": "display_data"
    },
    {
     "data": {
      "text/plain": [
       "PyObject <matplotlib.patches.Circle object at 0x1455420b0>"
      ]
     },
     "execution_count": 340,
     "metadata": {},
     "output_type": "execute_result"
    }
   ],
   "source": [
    "using PyPlot\n",
    "\n",
    "# Defining a function to plot the outline of the museum area\n",
    "function plot_site(mode)\n",
    "    plot([0,0], [0,500], \"b-\")\n",
    "    plot([0,500], [0,0], \"b-\")\n",
    "    plot([500,600], [0,300],\"b-\")\n",
    "    plot([300,600], [500,300],\"b-\")\n",
    "    plot([0,300], [500,500],\"b-\")\n",
    "    axis(\"image\")\n",
    "    axis([-.5,6.5,-.5,5.5]*100)\n",
    "    grid()\n",
    "end\n",
    "\n",
    "figure(figsize=(6,5))\n",
    "plot_site(1)\n",
    "\n",
    "circlel = plt.Circle((244.028, 244.028), radius = 169.028, fill=false, color =\"r\")\n",
    "plt.gca().add_patch(circlel)"
   ]
  }
 ],
 "metadata": {
  "kernelspec": {
   "display_name": "Julia 1.8.5",
   "language": "julia",
   "name": "julia-1.8"
  },
  "language_info": {
   "file_extension": ".jl",
   "mimetype": "application/julia",
   "name": "julia",
   "version": "1.8.5"
  }
 },
 "nbformat": 4,
 "nbformat_minor": 1
}
